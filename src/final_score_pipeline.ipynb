{
 "cells": [
  {
   "cell_type": "code",
   "execution_count": 1,
   "metadata": {},
   "outputs": [],
   "source": [
    "#import packages\n",
    "from langchain.document_loaders import PyPDFLoader\n",
    "from langchain.schema import Document\n",
    "import spacy\n",
    "\n",
    "import warnings\n",
    "warnings.filterwarnings(\"ignore\")"
   ]
  },
  {
   "cell_type": "markdown",
   "metadata": {},
   "source": [
    "Helper Functions"
   ]
  },
  {
   "cell_type": "code",
   "execution_count": 2,
   "metadata": {},
   "outputs": [],
   "source": [
    "def clean_text(text):\n",
    "    # Remove unwanted characters, extra spaces, and normalize whitespace\n",
    "    cleaned_text = text.replace('\\n', ' ').replace('\\x0c', '').strip()\n",
    "    return ' '.join(cleaned_text.split())"
   ]
  },
  {
   "cell_type": "markdown",
   "metadata": {},
   "source": [
    "### Data Retrieval"
   ]
  },
  {
   "cell_type": "markdown",
   "metadata": {},
   "source": [
    "Job Description"
   ]
  },
  {
   "cell_type": "code",
   "execution_count": 3,
   "metadata": {},
   "outputs": [],
   "source": [
    "from data_prep import load_data, read_docx\n",
    "job_code = 'JPC-52176'\n",
    "job_desc_path = f'../data/{job_code}/{job_code} Job Description.docx'\n",
    "job_description = clean_text(read_docx(job_desc_path))"
   ]
  },
  {
   "cell_type": "markdown",
   "metadata": {},
   "source": [
    "Resume"
   ]
  },
  {
   "cell_type": "code",
   "execution_count": 4,
   "metadata": {},
   "outputs": [],
   "source": [
    "from data_prep import load_data, read_docx\n",
    "job_code = 'JPC-55662'\n",
    "resumes_path = f'../data/{job_code}/resume_data'\n",
    "resumes = load_data(resumes_path)"
   ]
  },
  {
   "cell_type": "code",
   "execution_count": 9,
   "metadata": {},
   "outputs": [
    {
     "data": {
      "text/html": [
       "<div>\n",
       "<style scoped>\n",
       "    .dataframe tbody tr th:only-of-type {\n",
       "        vertical-align: middle;\n",
       "    }\n",
       "\n",
       "    .dataframe tbody tr th {\n",
       "        vertical-align: top;\n",
       "    }\n",
       "\n",
       "    .dataframe thead th {\n",
       "        text-align: right;\n",
       "    }\n",
       "</style>\n",
       "<table border=\"1\" class=\"dataframe\">\n",
       "  <thead>\n",
       "    <tr style=\"text-align: right;\">\n",
       "      <th></th>\n",
       "      <th>id</th>\n",
       "      <th>body</th>\n",
       "    </tr>\n",
       "  </thead>\n",
       "  <tbody>\n",
       "    <tr>\n",
       "      <th>0</th>\n",
       "      <td>Sowjanya</td>\n",
       "      <td>Sowjanya\\nEmail ID:- Sowjanyabejawada92@gmail....</td>\n",
       "    </tr>\n",
       "    <tr>\n",
       "      <th>1</th>\n",
       "      <td>Abheesta</td>\n",
       "      <td>Abheesta Vemuru\\nPhone: (646)-981-3281\\nEmail:...</td>\n",
       "    </tr>\n",
       "    <tr>\n",
       "      <th>2</th>\n",
       "      <td>Rajya</td>\n",
       "      <td>Rajya Lakshmi Bathula\\n316 821 1345\\nlakshmira...</td>\n",
       "    </tr>\n",
       "    <tr>\n",
       "      <th>3</th>\n",
       "      <td>Uday</td>\n",
       "      <td>Uday Reddy\\nPython Developer\\nPhone: 732-377-4...</td>\n",
       "    </tr>\n",
       "    <tr>\n",
       "      <th>4</th>\n",
       "      <td>Rithvik</td>\n",
       "      <td>Rithvik P\\nEmail:rithvikrao222@gmail.com\\nPH: ...</td>\n",
       "    </tr>\n",
       "    <tr>\n",
       "      <th>5</th>\n",
       "      <td>Rafael</td>\n",
       "      <td>\\nRafael Alvarez Gaucin\\n(925)-310-8234\\nrafae...</td>\n",
       "    </tr>\n",
       "    <tr>\n",
       "      <th>6</th>\n",
       "      <td>Bharath</td>\n",
       "      <td>Bharath Kumar P\\t\\tPython Developer\\nBharathku...</td>\n",
       "    </tr>\n",
       "    <tr>\n",
       "      <th>7</th>\n",
       "      <td>Krishnaroopa</td>\n",
       "      <td>KRISHNAROOPA\\nEmail ID: krishnaroopa773@gmail....</td>\n",
       "    </tr>\n",
       "    <tr>\n",
       "      <th>8</th>\n",
       "      <td>Devendra</td>\n",
       "      <td>Devendra\\nSr. Python Developer\\n\\nE-mail:  dev...</td>\n",
       "    </tr>\n",
       "    <tr>\n",
       "      <th>9</th>\n",
       "      <td>ShanthiRatna</td>\n",
       "      <td>shanthiRatna Siliveri\\nPython Developer\\n51097...</td>\n",
       "    </tr>\n",
       "  </tbody>\n",
       "</table>\n",
       "</div>"
      ],
      "text/plain": [
       "             id                                               body\n",
       "0      Sowjanya  Sowjanya\\nEmail ID:- Sowjanyabejawada92@gmail....\n",
       "1      Abheesta  Abheesta Vemuru\\nPhone: (646)-981-3281\\nEmail:...\n",
       "2         Rajya  Rajya Lakshmi Bathula\\n316 821 1345\\nlakshmira...\n",
       "3          Uday  Uday Reddy\\nPython Developer\\nPhone: 732-377-4...\n",
       "4       Rithvik  Rithvik P\\nEmail:rithvikrao222@gmail.com\\nPH: ...\n",
       "5        Rafael  \\nRafael Alvarez Gaucin\\n(925)-310-8234\\nrafae...\n",
       "6       Bharath  Bharath Kumar P\\t\\tPython Developer\\nBharathku...\n",
       "7  Krishnaroopa  KRISHNAROOPA\\nEmail ID: krishnaroopa773@gmail....\n",
       "8      Devendra  Devendra\\nSr. Python Developer\\n\\nE-mail:  dev...\n",
       "9  ShanthiRatna  shanthiRatna Siliveri\\nPython Developer\\n51097..."
      ]
     },
     "execution_count": 9,
     "metadata": {},
     "output_type": "execute_result"
    }
   ],
   "source": [
    "resumes"
   ]
  },
  {
   "cell_type": "code",
   "execution_count": null,
   "metadata": {},
   "outputs": [],
   "source": [
    "resume_id = 0"
   ]
  },
  {
   "cell_type": "code",
   "execution_count": 8,
   "metadata": {},
   "outputs": [],
   "source": [
    "# file_path = '../data/JPC-52176/resume_data/Bhavana Karwar Automation Developer.pdf'\n",
    "# loader = PyPDFLoader(file_path)\n",
    "# documents = loader.load()\n",
    "# full_text = \" \".join([clean_text(doc.page_content) for doc in documents])\n",
    "single_document = Document(page_content=clean_text(resumes.iloc[resume_id]['body']))"
   ]
  },
  {
   "cell_type": "markdown",
   "metadata": {},
   "source": [
    "Retrieving Skills from job description"
   ]
  },
  {
   "cell_type": "code",
   "execution_count": 88,
   "metadata": {},
   "outputs": [],
   "source": [
    "def get_skills(resume_txt):\n",
    "    nlp = spacy.load(\"en_core_web_sm\")\n",
    "    skills = \"jz_skill_patterns.jsonl\"\n",
    "\n",
    "    ruler = nlp.add_pipe(\"entity_ruler\", before = \"ner\")\n",
    "    ruler.from_disk(skills)\n",
    "    doc = nlp(resume_txt)\n",
    "\n",
    "    resume_skill_list = set()\n",
    "    for ent in doc.ents:\n",
    "        if ent.label_ == \"SKILL\":\n",
    "            resume_skill_list.add(ent.text.lower())\n",
    "\n",
    "    return resume_skill_list"
   ]
  },
  {
   "cell_type": "code",
   "execution_count": 89,
   "metadata": {},
   "outputs": [
    {
     "data": {
      "text/plain": [
       "{'communications',\n",
       " 'core network',\n",
       " 'javascript',\n",
       " 'python',\n",
       " 'support',\n",
       " 'testing',\n",
       " 'wireless'}"
      ]
     },
     "execution_count": 89,
     "metadata": {},
     "output_type": "execute_result"
    }
   ],
   "source": [
    "job_skills = get_skills(job_description)\n",
    "job_skills"
   ]
  },
  {
   "cell_type": "markdown",
   "metadata": {},
   "source": [
    "### Data Prep"
   ]
  },
  {
   "cell_type": "code",
   "execution_count": 90,
   "metadata": {},
   "outputs": [],
   "source": [
    "from langchain.text_splitter import RecursiveCharacterTextSplitter\n",
    "from langchain.embeddings import HuggingFaceEmbeddings\n",
    "from langchain_community.vectorstores import FAISS"
   ]
  },
  {
   "cell_type": "markdown",
   "metadata": {},
   "source": [
    "Chunking resume and adding to vectorstore"
   ]
  },
  {
   "cell_type": "code",
   "execution_count": 91,
   "metadata": {},
   "outputs": [],
   "source": [
    "text_splitter = RecursiveCharacterTextSplitter(chunk_size=200, chunk_overlap=50)\n",
    "docs = text_splitter.split_documents([single_document])"
   ]
  },
  {
   "cell_type": "code",
   "execution_count": 92,
   "metadata": {},
   "outputs": [],
   "source": [
    "#loading the embedding model from huggingface\n",
    "embedding_model_name = \"BAAI/bge-small-en-v1.5\"\n",
    "# model_kwargs = {\"device\": \"cuda\"}\n",
    "embeddings = HuggingFaceEmbeddings(\n",
    "  model_name=embedding_model_name,\n",
    "  # model_kwargs=model_kwargs\n",
    ")"
   ]
  },
  {
   "cell_type": "code",
   "execution_count": 93,
   "metadata": {},
   "outputs": [],
   "source": [
    "vectorstore = FAISS.from_documents(docs, embeddings)"
   ]
  },
  {
   "cell_type": "markdown",
   "metadata": {},
   "source": [
    "### Prompting and Retrieval"
   ]
  },
  {
   "cell_type": "code",
   "execution_count": 94,
   "metadata": {},
   "outputs": [],
   "source": [
    "from langchain.prompts import ChatPromptTemplate\n",
    "import os\n",
    "from langchain_groq import ChatGroq\n",
    "import re\n",
    "import pandas as pd"
   ]
  },
  {
   "cell_type": "code",
   "execution_count": 95,
   "metadata": {},
   "outputs": [],
   "source": [
    "def get_job_skill_weights(llm, job_description, job_skills):\n",
    "    prompt_template=ChatPromptTemplate.from_template(\n",
    "        \"\"\"\n",
    "        I need your help to analyze the following job description and extract the skills mentioned. For each skill, please assign a weightage between 0 and 1, where 1 indicates the skill is most critical for the job, and 0 indicates it is least important.\n",
    "        Skills should mostly include tech stacks and tools but can also include concepts and procedures that need to be known.\n",
    "        Here is the job description:\n",
    "        \"{job_description}\"\n",
    "\n",
    "        Here is a list of skills identified by a spaCy model. Use this as a reference. Add to this list or remove unapplicable skills. The final list should not exceed 10 skills:\n",
    "        {job_skills}\n",
    "\n",
    "        Skills should not be too specific. If you identify related skills that can be logically combined into a broader category, group them together and provide a single weightage for the broader category. Ensure that the weightages reflect the importance of each skill or category based on the job description. Make sure the skills are commonly found in resumes.\n",
    "\n",
    "        Please provide the extracted skills along with their corresponding weightages in the following format:\n",
    "        - Skill: [skill_name], Weightage: [weightage]\n",
    "\n",
    "        Make sure to rank the skills based on their importance to the job.\n",
    "\n",
    "        \"\"\"\n",
    "    )\n",
    "    prompt = prompt_template.invoke({\"job_description\": job_description, \"job_skills\": job_skills})\n",
    "    result = llm.invoke(prompt)\n",
    "    print(result.content)\n",
    "    return result.content\n",
    "    \n",
    "def parse_resume_skill_weights(input_string):\n",
    "    pattern = r\"Skill:\\s*(.*?),\\s*Weightage:\\s*(\\d+\\.\\d+)\"\n",
    "\n",
    "    # Find all matches in the input text\n",
    "    matches = re.findall(pattern, input_string)\n",
    "\n",
    "    # Convert matches to a DataFrame\n",
    "    df = pd.DataFrame(matches, columns=['skill', 'weightage'])\n",
    "\n",
    "    # Convert Weightage to numeric type\n",
    "    df['weightage'] = pd.to_numeric(df['weightage'])\n",
    "    \n",
    "    return df\n"
   ]
  },
  {
   "cell_type": "code",
   "execution_count": 96,
   "metadata": {},
   "outputs": [
    {
     "name": "stdout",
     "output_type": "stream",
     "text": [
      "Based on the job description and the list of skills provided, here are the extracted skills with their corresponding weightages:\n",
      "\n",
      "1. Skill: Python, Weightage: 0.9\n",
      "2. Skill: JavaScript, Weightage: 0.9\n",
      "3. Skill: Test Automation Development, Weightage: 0.9\n",
      "4. Skill: 5G or other wireless technologies, Weightage: 0.8\n",
      "5. Skill: Network protocols, Weightage: 0.5\n",
      "6. Skill: Test Script Design and Development, Weightage: 0.7\n",
      "7. Skill: Manual Testing, Weightage: 0.2\n",
      "8. Skill: Test Case Analysis, Weightage: 0.6\n",
      "9. Skill: Test Coverage Determination, Weightage: 0.5\n",
      "10. Skill: Test Report Preparation, Weightage: 0.5\n",
      "\n",
      "Explanation:\n",
      "\n",
      "* Python and JavaScript are essential skills for this job, with a weightage of 0.9 each.\n",
      "* Test Automation Development is the most critical skill for this position, with a weightage of 0.9.\n",
      "* Experience with 5G or other wireless technologies is crucial, with a weightage of 0.8.\n",
      "* Network protocols understanding is a plus, with a weightage of 0.5.\n",
      "* Test Script Design and Development is an important skill, with a weightage of 0.7.\n",
      "* Manual Testing is a less critical skill, with a weightage of 0.2.\n",
      "* Test Case Analysis, Test Coverage Determination, and Test Report Preparation are relevant skills, with a weightage of 0.6, 0.5, and 0.5, respectively.\n",
      "\n",
      "These skills are commonly found in resumes and cover the essential requirements of the job description.\n"
     ]
    }
   ],
   "source": [
    "temp_string = get_job_skill_weights(llm, job_description, job_skills)"
   ]
  },
  {
   "cell_type": "code",
   "execution_count": 97,
   "metadata": {},
   "outputs": [
    {
     "data": {
      "text/html": [
       "<div>\n",
       "<style scoped>\n",
       "    .dataframe tbody tr th:only-of-type {\n",
       "        vertical-align: middle;\n",
       "    }\n",
       "\n",
       "    .dataframe tbody tr th {\n",
       "        vertical-align: top;\n",
       "    }\n",
       "\n",
       "    .dataframe thead th {\n",
       "        text-align: right;\n",
       "    }\n",
       "</style>\n",
       "<table border=\"1\" class=\"dataframe\">\n",
       "  <thead>\n",
       "    <tr style=\"text-align: right;\">\n",
       "      <th></th>\n",
       "      <th>skill</th>\n",
       "      <th>weightage</th>\n",
       "    </tr>\n",
       "  </thead>\n",
       "  <tbody>\n",
       "    <tr>\n",
       "      <th>0</th>\n",
       "      <td>Python</td>\n",
       "      <td>0.9</td>\n",
       "    </tr>\n",
       "    <tr>\n",
       "      <th>1</th>\n",
       "      <td>JavaScript</td>\n",
       "      <td>0.9</td>\n",
       "    </tr>\n",
       "    <tr>\n",
       "      <th>2</th>\n",
       "      <td>Test Automation Development</td>\n",
       "      <td>0.9</td>\n",
       "    </tr>\n",
       "    <tr>\n",
       "      <th>3</th>\n",
       "      <td>5G or other wireless technologies</td>\n",
       "      <td>0.8</td>\n",
       "    </tr>\n",
       "    <tr>\n",
       "      <th>4</th>\n",
       "      <td>Network protocols</td>\n",
       "      <td>0.5</td>\n",
       "    </tr>\n",
       "    <tr>\n",
       "      <th>5</th>\n",
       "      <td>Test Script Design and Development</td>\n",
       "      <td>0.7</td>\n",
       "    </tr>\n",
       "    <tr>\n",
       "      <th>6</th>\n",
       "      <td>Manual Testing</td>\n",
       "      <td>0.2</td>\n",
       "    </tr>\n",
       "    <tr>\n",
       "      <th>7</th>\n",
       "      <td>Test Case Analysis</td>\n",
       "      <td>0.6</td>\n",
       "    </tr>\n",
       "    <tr>\n",
       "      <th>8</th>\n",
       "      <td>Test Coverage Determination</td>\n",
       "      <td>0.5</td>\n",
       "    </tr>\n",
       "    <tr>\n",
       "      <th>9</th>\n",
       "      <td>Test Report Preparation</td>\n",
       "      <td>0.5</td>\n",
       "    </tr>\n",
       "  </tbody>\n",
       "</table>\n",
       "</div>"
      ],
      "text/plain": [
       "                                skill  weightage\n",
       "0                              Python        0.9\n",
       "1                          JavaScript        0.9\n",
       "2         Test Automation Development        0.9\n",
       "3   5G or other wireless technologies        0.8\n",
       "4                   Network protocols        0.5\n",
       "5  Test Script Design and Development        0.7\n",
       "6                      Manual Testing        0.2\n",
       "7                  Test Case Analysis        0.6\n",
       "8         Test Coverage Determination        0.5\n",
       "9             Test Report Preparation        0.5"
      ]
     },
     "execution_count": 97,
     "metadata": {},
     "output_type": "execute_result"
    }
   ],
   "source": [
    "skill_df = parse_resume_skill_weights(temp_string)\n",
    "skill_df"
   ]
  },
  {
   "cell_type": "code",
   "execution_count": 98,
   "metadata": {},
   "outputs": [],
   "source": [
    "retriever = vectorstore.as_retriever(\n",
    "    search_type=\"similarity_score_threshold\",\n",
    "    search_kwargs={\"k\": 3, \"score_threshold\": 0.3})"
   ]
  },
  {
   "cell_type": "code",
   "execution_count": 99,
   "metadata": {},
   "outputs": [],
   "source": [
    "def prompt_llm(llm, skill):\n",
    "    prompt_template=ChatPromptTemplate.from_template(\n",
    "        \"\"\"\n",
    "    You are a job recruiter evaluating a candidate's resume. Based on the resume content provided, \n",
    "    please evaluate the candidate's proficiency in {skill} on a scale of 1 to 5, where:\n",
    "    1 - No proficiency or mention\n",
    "    2 - Basic understanding \n",
    "    3 - Intermediate proficiency \n",
    "    4 - Proficient\n",
    "    5 - Expert-level proficiency\n",
    "\n",
    "    Do not use information that is not related to {skill}. \n",
    "    Resume Content: {context}\n",
    "\n",
    "    Score for {skill}: \n",
    "\n",
    "    Please provide it in the following format:\n",
    "    score: (integer from 1-5)\n",
    "    reason: (short explanation for your score)\n",
    "    \"\"\"\n",
    "    )\n",
    "    relevant_docs = retriever.invoke(skill)\n",
    "    context = \" \".join([doc.page_content for doc in relevant_docs])\n",
    "    prompt = prompt_template.invoke({\"context\": context, \"skill\": skill})\n",
    "    result = llm.invoke(prompt)\n",
    "    print(result.content)\n",
    "    return result.content\n",
    "\n",
    "def parse_score_reason(input_string):\n",
    "    if input_string == None:\n",
    "        return None, None\n",
    "    score_match = re.search(r'score:\\s*(\\d+)', input_string)\n",
    "    reason_match = re.search(r'reason:\\s*(.*)', input_string, re.DOTALL)\n",
    "    \n",
    "    # Extract and return values\n",
    "    score = int(score_match.group(1)) if score_match else None\n",
    "    reason = reason_match.group(1).strip() if reason_match else None\n",
    "    \n",
    "    return score, reason"
   ]
  },
  {
   "cell_type": "code",
   "execution_count": 100,
   "metadata": {},
   "outputs": [],
   "source": [
    "groq_api_key=os.environ['GROQ_API_KEY']\n",
    "llm=ChatGroq(groq_api_key=groq_api_key,\n",
    "         model_name=\"mixtral-8x7b-32768\")"
   ]
  },
  {
   "cell_type": "code",
   "execution_count": 101,
   "metadata": {},
   "outputs": [],
   "source": [
    "# result_string = prompt_llm(llm, \"python\")\n"
   ]
  },
  {
   "cell_type": "code",
   "execution_count": 104,
   "metadata": {},
   "outputs": [
    {
     "name": "stdout",
     "output_type": "stream",
     "text": [
      "score: 4\n",
      "reason: The candidate has demonstrated proficient use of Python by implementing an embedded system setup and writing scripts to test encoders. Additionally, Python is listed as one of their custom build languages, indicating they have experience using it for a variety of tasks.\n",
      "score: 3\n",
      "reason: The candidate has listed JavaScript as one of their programming languages, which indicates an intermediate proficiency. However, there are no specific projects or accomplishments related to JavaScript that would suggest a higher level of expertise.\n",
      "score: 4\n",
      "reason: The candidate has extensive experience as a Senior Test Automation Engineer, developing test automation for UI, API services, and database validations using Groovy scripting language or built-in functions of Ready API or other API testing tools. They have worked with architecture teams to identify appropriate test solutions and demonstrated the ability to exercise all aspects of application code. Additionally, they have experience in stakeholder communication, budget development, and department collaboration, indicating a high level of proficiency in Test Automation Development.\n",
      "score: 3\n",
      "reason: The candidate has an intermediate proficiency in wireless technologies. They have experience leading projects that provided seamless auto-authentication for customers and helped with Wifi offload for non-mobile customers. Additionally, they have experience in a senior role overseeing the delegation of QA tasks in a micro-service architecture for CI/CD pipeline for Video broadcasting projects. These experiences demonstrate a solid understanding of wireless technologies, but there is no mention of 5G or specific expertise in other advanced wireless technologies.\n",
      "score: 3\n",
      "reason: The candidate has demonstrated intermediate proficiency in network protocols through their experience with network integration and leading projects that involved network-related tasks, such as providing auto-authentication to access points. However, there is no explicit mention of expert-level knowledge or proficiency in specific network protocols.\n",
      "score: 4\n",
      "reason: The candidate has extensive experience in test automation engineering and has written test automation code for API testing using Groovy scripting language as well as built-in functions of Ready API or any other API testing tools. Additionally, the candidate has proficiency in various scripting languages such as VB Script, TCL, Shell scripting, HTML, HTML-5, CSS, AJAX, jQuery, JavaScript, BASH, Cucumber, PYTHON, SWIFT, KOTLIN. These skills demonstrate a high level of proficiency in Test Script Design and Development.\n",
      "score: 2\n",
      "reason: The candidate's resume shows a strong focus on test automation with no direct mention of manual testing experience or proficiency. However, a basic understanding of manual testing could be inferred from their role in the DevOps team, working closely with the development team, and mentoring other engineers.\n",
      "score: 4\n",
      "reason: The candidate has extensive experience in software test engineering, process/test automation, and analyzing system requirements for various computer system modules. Their familiarity with API testing tools like Ready API and experience with test management tools like Mercury Quality Center (Test Director) and Rational further support their proficiency. However, without specific examples of complex test case analysis or leading a team in test case analysis, we cannot give them an expert-level score of 5.\n",
      "score: 3\n",
      "reason: The candidate has experience with various programming languages and test management tools, and has guided a team on cost savings strategies, which suggests an intermediate level of proficiency in Test Coverage Determination. However, there is no explicit mention of expertise or experience in Test Coverage Determination, so a score of 4 or 5 would be unwarranted.\n",
      "score: 3\n",
      "reason: The candidate has experience as a Test Engineer, Test Lead, and Test Manager, which suggests they have had opportunities to prepare test reports. Additionally, they have worked with various test management tools, such as Mercury Quality Center (Test Director) and Rational, which are often used for test reporting. However, there is no explicit mention of expertise or specialization in test report preparation, so I would rate their proficiency as intermediate.\n"
     ]
    }
   ],
   "source": [
    "scores = []\n",
    "reasons = []\n",
    "\n",
    "# Loop through each skill, call the function, and parse the result\n",
    "for skill in skill_df['skill']:\n",
    "    input_string = prompt_llm(llm, skill)\n",
    "    score, reason = parse_score_reason(input_string)\n",
    "    scores.append(score)\n",
    "    reasons.append(reason)\n",
    "\n",
    "# Create a DataFrame\n",
    "data = {'skill': list(skill_df['skill']), 'score': scores, 'reason': reasons}\n",
    "df = pd.DataFrame(data)\n"
   ]
  },
  {
   "cell_type": "code",
   "execution_count": 105,
   "metadata": {},
   "outputs": [
    {
     "data": {
      "text/html": [
       "<div>\n",
       "<style scoped>\n",
       "    .dataframe tbody tr th:only-of-type {\n",
       "        vertical-align: middle;\n",
       "    }\n",
       "\n",
       "    .dataframe tbody tr th {\n",
       "        vertical-align: top;\n",
       "    }\n",
       "\n",
       "    .dataframe thead th {\n",
       "        text-align: right;\n",
       "    }\n",
       "</style>\n",
       "<table border=\"1\" class=\"dataframe\">\n",
       "  <thead>\n",
       "    <tr style=\"text-align: right;\">\n",
       "      <th></th>\n",
       "      <th>skill</th>\n",
       "      <th>score</th>\n",
       "      <th>reason</th>\n",
       "      <th>weightage</th>\n",
       "    </tr>\n",
       "  </thead>\n",
       "  <tbody>\n",
       "    <tr>\n",
       "      <th>0</th>\n",
       "      <td>Python</td>\n",
       "      <td>4</td>\n",
       "      <td>The candidate has demonstrated proficient use ...</td>\n",
       "      <td>0.9</td>\n",
       "    </tr>\n",
       "    <tr>\n",
       "      <th>1</th>\n",
       "      <td>JavaScript</td>\n",
       "      <td>3</td>\n",
       "      <td>The candidate has listed JavaScript as one of ...</td>\n",
       "      <td>0.9</td>\n",
       "    </tr>\n",
       "    <tr>\n",
       "      <th>2</th>\n",
       "      <td>Test Automation Development</td>\n",
       "      <td>4</td>\n",
       "      <td>The candidate has extensive experience as a Se...</td>\n",
       "      <td>0.9</td>\n",
       "    </tr>\n",
       "    <tr>\n",
       "      <th>3</th>\n",
       "      <td>5G or other wireless technologies</td>\n",
       "      <td>3</td>\n",
       "      <td>The candidate has an intermediate proficiency ...</td>\n",
       "      <td>0.8</td>\n",
       "    </tr>\n",
       "    <tr>\n",
       "      <th>4</th>\n",
       "      <td>Network protocols</td>\n",
       "      <td>3</td>\n",
       "      <td>The candidate has demonstrated intermediate pr...</td>\n",
       "      <td>0.5</td>\n",
       "    </tr>\n",
       "    <tr>\n",
       "      <th>5</th>\n",
       "      <td>Test Script Design and Development</td>\n",
       "      <td>4</td>\n",
       "      <td>The candidate has extensive experience in test...</td>\n",
       "      <td>0.7</td>\n",
       "    </tr>\n",
       "    <tr>\n",
       "      <th>6</th>\n",
       "      <td>Manual Testing</td>\n",
       "      <td>2</td>\n",
       "      <td>The candidate's resume shows a strong focus on...</td>\n",
       "      <td>0.2</td>\n",
       "    </tr>\n",
       "    <tr>\n",
       "      <th>7</th>\n",
       "      <td>Test Case Analysis</td>\n",
       "      <td>4</td>\n",
       "      <td>The candidate has extensive experience in soft...</td>\n",
       "      <td>0.6</td>\n",
       "    </tr>\n",
       "    <tr>\n",
       "      <th>8</th>\n",
       "      <td>Test Coverage Determination</td>\n",
       "      <td>3</td>\n",
       "      <td>The candidate has experience with various prog...</td>\n",
       "      <td>0.5</td>\n",
       "    </tr>\n",
       "    <tr>\n",
       "      <th>9</th>\n",
       "      <td>Test Report Preparation</td>\n",
       "      <td>3</td>\n",
       "      <td>The candidate has experience as a Test Enginee...</td>\n",
       "      <td>0.5</td>\n",
       "    </tr>\n",
       "  </tbody>\n",
       "</table>\n",
       "</div>"
      ],
      "text/plain": [
       "                                skill  score  \\\n",
       "0                              Python      4   \n",
       "1                          JavaScript      3   \n",
       "2         Test Automation Development      4   \n",
       "3   5G or other wireless technologies      3   \n",
       "4                   Network protocols      3   \n",
       "5  Test Script Design and Development      4   \n",
       "6                      Manual Testing      2   \n",
       "7                  Test Case Analysis      4   \n",
       "8         Test Coverage Determination      3   \n",
       "9             Test Report Preparation      3   \n",
       "\n",
       "                                              reason  weightage  \n",
       "0  The candidate has demonstrated proficient use ...        0.9  \n",
       "1  The candidate has listed JavaScript as one of ...        0.9  \n",
       "2  The candidate has extensive experience as a Se...        0.9  \n",
       "3  The candidate has an intermediate proficiency ...        0.8  \n",
       "4  The candidate has demonstrated intermediate pr...        0.5  \n",
       "5  The candidate has extensive experience in test...        0.7  \n",
       "6  The candidate's resume shows a strong focus on...        0.2  \n",
       "7  The candidate has extensive experience in soft...        0.6  \n",
       "8  The candidate has experience with various prog...        0.5  \n",
       "9  The candidate has experience as a Test Enginee...        0.5  "
      ]
     },
     "execution_count": 105,
     "metadata": {},
     "output_type": "execute_result"
    }
   ],
   "source": [
    "merged_df = pd.merge(df, skill_df, how='inner')\n",
    "merged_df"
   ]
  },
  {
   "cell_type": "code",
   "execution_count": 107,
   "metadata": {},
   "outputs": [
    {
     "data": {
      "text/plain": [
       "22.4"
      ]
     },
     "execution_count": 107,
     "metadata": {},
     "output_type": "execute_result"
    }
   ],
   "source": [
    "merged_df['weighted_Score'] = merged_df['score'] * merged_df['weightage']\n",
    "\n",
    "# Calculate the weighted sum\n",
    "final_score = merged_df['weighted_Score'].sum()\n",
    "final_score"
   ]
  },
  {
   "cell_type": "code",
   "execution_count": null,
   "metadata": {},
   "outputs": [],
   "source": []
  }
 ],
 "metadata": {
  "kernelspec": {
   "display_name": "e4_LangChain_project",
   "language": "python",
   "name": "python3"
  },
  "language_info": {
   "codemirror_mode": {
    "name": "ipython",
    "version": 3
   },
   "file_extension": ".py",
   "mimetype": "text/x-python",
   "name": "python",
   "nbconvert_exporter": "python",
   "pygments_lexer": "ipython3",
   "version": "3.11.8"
  }
 },
 "nbformat": 4,
 "nbformat_minor": 2
}
